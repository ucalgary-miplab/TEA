{
 "cells": [
  {
   "cell_type": "code",
   "id": "initial_id",
   "metadata": {
    "collapsed": true,
    "ExecuteTime": {
     "end_time": "2024-08-15T17:59:18.480989Z",
     "start_time": "2024-08-15T17:59:17.624077Z"
    }
   },
   "source": [
    "import os, sys\n",
    "from pathlib import Path\n",
    "import torch\n",
    "import tifffile as tiff\n",
    "\n",
    "macaw_path = Path(os.getcwd())\n",
    "sys.path.append(str(macaw_path) +'/')\n",
    "\n",
    "ncomps = 50\n",
    "model_comps = 500\n",
    "dr_method = 'PCA'\n",
    "\n",
    "exp_name=\"far_bias\"\n",
    "\n",
    "test_path = train_path = macaw_path/exp_name/f'test_hc_data_{dr_method}_{model_comps}.pkl'\n",
    "model_base_path = macaw_path/'models'/exp_name/f'{dr_method}_{model_comps}'/f'{ncomps}'"
   ],
   "outputs": [],
   "execution_count": 1
  },
  {
   "metadata": {
    "ExecuteTime": {
     "end_time": "2024-08-15T17:59:18.929300Z",
     "start_time": "2024-08-15T17:59:18.481884Z"
    }
   },
   "cell_type": "code",
   "source": [
    "import pickle\n",
    "\n",
    "with open(test_path, 'rb') as f:\n",
    "    test = pickle.load(f)\n",
    "    \n",
    "disease = test['disease']\n",
    "bias = test['bias']\n",
    "test_imgs = test['imgs']\n",
    "\n",
    "encoded_data = test['encoded_data']\n",
    "pca = test['pca']\n",
    "\n",
    "img_names = test['img_names']"
   ],
   "id": "c0e8522f070024f6",
   "outputs": [],
   "execution_count": 2
  },
  {
   "metadata": {
    "ExecuteTime": {
     "end_time": "2024-08-15T17:59:18.932045Z",
     "start_time": "2024-08-15T17:59:18.929965Z"
    }
   },
   "cell_type": "code",
   "source": [
    "with open(model_base_path/'hyperparameters.pkl', 'rb') as f:\n",
    "    hp = pickle.load(f)\n",
    "    \n",
    "ncomps= hp['ncomps']\n",
    "nevecs= hp['nevecs']\n",
    "nbasecomps= hp['nbasecomps']\n",
    "ncauses= hp['ncauses']\n",
    "crop_size= hp['crop_size']"
   ],
   "id": "ffb6c3fe15b1243c",
   "outputs": [],
   "execution_count": 3
  },
  {
   "metadata": {
    "ExecuteTime": {
     "end_time": "2024-08-15T17:59:19.869934Z",
     "start_time": "2024-08-15T17:59:18.932622Z"
    }
   },
   "cell_type": "code",
   "source": [
    "import torchvision.transforms.functional as F\n",
    "import matplotlib.pyplot as plt\n",
    "import numpy as np\n",
    "\n",
    "def recons(age,bmi,latents, latent_offset=0):\n",
    "    \n",
    "    # bmi = scaler_b.inverse_transform(bmi)\n",
    "    # print(age)\n",
    "    latent_enc = np.zeros((latents.shape[0],ncomps))\n",
    "    latent_enc[:,latent_offset:latent_offset+latents.shape[1]] = latents    \n",
    "    # latent_enc = scaler_i.inverse_transform(latent_enc)\n",
    "    imgs = pca.inverse_transform(latent_enc)\n",
    "    return age,bmi,imgs"
   ],
   "id": "7016f42e95479030",
   "outputs": [],
   "execution_count": 4
  },
  {
   "metadata": {
    "ExecuteTime": {
     "end_time": "2024-08-15T17:59:19.893349Z",
     "start_time": "2024-08-15T17:59:19.871091Z"
    }
   },
   "cell_type": "code",
   "source": [
    "sample_imgs = test_imgs[:5,:]\n",
    "t = pca.transform(sample_imgs)\n",
    "X_recon = pca.inverse_transform(t)"
   ],
   "id": "302ad7c430bdfe1f",
   "outputs": [],
   "execution_count": 5
  },
  {
   "metadata": {
    "ExecuteTime": {
     "end_time": "2024-08-15T17:59:19.895936Z",
     "start_time": "2024-08-15T17:59:19.894125Z"
    }
   },
   "cell_type": "code",
   "source": [
    "def make_img(x):\n",
    "    img = (255*x/np.max(x)).reshape(crop_size,crop_size)\n",
    "    return np.clip(img,0, 255).astype('uint8')"
   ],
   "id": "8bc112239b561b94",
   "outputs": [],
   "execution_count": 6
  },
  {
   "metadata": {
    "ExecuteTime": {
     "end_time": "2024-08-15T17:59:19.898785Z",
     "start_time": "2024-08-15T17:59:19.896546Z"
    }
   },
   "cell_type": "code",
   "source": [
    "import glob\n",
    "from PIL import Image\n",
    "\n",
    "def make_gif(frames, save_name):    \n",
    "    frames = [Image.fromarray(f) for f in frames]\n",
    "    frame_one = frames[0]\n",
    "    return frame_one.save(save_name, format=\"GIF\", append_images=frames, save_all=True, duration=100, loop=0)"
   ],
   "id": "5c2c31c31c5d17ce",
   "outputs": [],
   "execution_count": 7
  },
  {
   "metadata": {
    "ExecuteTime": {
     "end_time": "2024-08-15T17:59:19.901271Z",
     "start_time": "2024-08-15T17:59:19.899346Z"
    }
   },
   "cell_type": "code",
   "source": [
    "print(img_names[247], img_names[248])"
   ],
   "id": "3352973164f64eda",
   "outputs": [
    {
     "name": "stdout",
     "output_type": "stream",
     "text": [
      "00247_-0.253_S_-1.014_D_2.431_B.tiff 00248_0.455_S_0.342_D.tiff\n"
     ]
    }
   ],
   "execution_count": 8
  },
  {
   "metadata": {
    "ExecuteTime": {
     "end_time": "2024-08-15T17:59:22.303182Z",
     "start_time": "2024-08-15T17:59:19.901790Z"
    }
   },
   "cell_type": "code",
   "source": [
    "from torchvision.transforms import CenterCrop\n",
    "from utils.customTransforms import ToFloatUKBB\n",
    "from monai.transforms import Compose, ToTensor\n",
    "transforms = Compose([ToTensor(),CenterCrop(crop_size),ToFloatUKBB()])"
   ],
   "id": "f68a67e80461df3e",
   "outputs": [
    {
     "name": "stderr",
     "output_type": "stream",
     "text": [
      "/home/volatope/Software/anaconda3/lib/python3.11/site-packages/transformers/utils/generic.py:260: UserWarning: torch.utils._pytree._register_pytree_node is deprecated. Please use torch.utils._pytree.register_pytree_node instead.\n",
      "  torch.utils._pytree._register_pytree_node(\n",
      "2024-08-15 11:59:20.865755: I tensorflow/core/util/port.cc:110] oneDNN custom operations are on. You may see slightly different numerical results due to floating-point round-off errors from different computation orders. To turn them off, set the environment variable `TF_ENABLE_ONEDNN_OPTS=0`.\n",
      "2024-08-15 11:59:20.893436: I tensorflow/tsl/cuda/cudart_stub.cc:28] Could not find cuda drivers on your machine, GPU will not be used.\n",
      "2024-08-15 11:59:21.106242: I tensorflow/core/platform/cpu_feature_guard.cc:182] This TensorFlow binary is optimized to use available CPU instructions in performance-critical operations.\n",
      "To enable the following instructions: AVX2 AVX512F AVX512_VNNI FMA, in other operations, rebuild TensorFlow with the appropriate compiler flags.\n",
      "2024-08-15 11:59:21.742054: W tensorflow/compiler/tf2tensorrt/utils/py_utils.cc:38] TF-TRT Warning: Could not find TensorRT\n"
     ]
    }
   ],
   "execution_count": 9
  },
  {
   "metadata": {
    "ExecuteTime": {
     "end_time": "2024-08-15T17:59:25.727614Z",
     "start_time": "2024-08-15T17:59:22.303860Z"
    }
   },
   "cell_type": "code",
   "source": [
    "import SimpleITK as sitk\n",
    "import numpy as np\n",
    "import torch\n",
    "\n",
    "save_name = f'{exp_name}/cfs'\n",
    "cf_vals = {1:0}\n",
    "image_shape = (180, 180)  # Assuming each image is 180x180\n",
    "\n",
    "# rands = np.random.randint(0, encoded_data.shape[0], nsamples)\n",
    "# d_obs = test_imgs[rands, :]\n",
    "# encoded_obs = encoded_data[rands, :]\n",
    "# \n",
    "# names = img_names[rands]\n",
    "# dis_obs = disease[rands]\n",
    "# bias_obs = bias[rands]\n",
    "residuals = test_imgs - pca.inverse_transform(encoded_data)\n",
    "\n",
    "cf = np.zeros((248, ncomps))\n",
    "for ev in range(0, ncomps - nbasecomps, nevecs - nbasecomps):\n",
    "    ed = encoded_data[:248, ev:ev + nevecs]\n",
    "    X_obs = np.hstack([disease[:248, np.newaxis], bias[:248, np.newaxis], ed])\n",
    "    try:\n",
    "        macaw = torch.load(model_base_path / f'{ev}.pt')\n",
    "        cc = macaw.counterfactual(X_obs, cf_vals)\n",
    "    except Exception as e:\n",
    "        print(e, \"Using original\")\n",
    "        cc[:, ncauses:] = X_obs[:, ncauses:].copy()\n",
    "\n",
    "    cf[:, ev:ev + nevecs] = cc[:, ncauses:]\n",
    "\n",
    "re_cf = recons(cc[:, 0], cc[:, 1], cf)\n",
    "re_cf_resd = re_cf[2] + residuals[:248]\n",
    "\n",
    "# Convert numpy arrays to SimpleITK images\n",
    "def numpy_to_sitk(img):\n",
    "    return sitk.GetImageFromArray(img.astype(np.float32))\n",
    "\n",
    "def sitk_to_numpy(img):\n",
    "    return sitk.GetArrayFromImage(img)\n",
    "\n",
    "# Perform histogram matching\n",
    "matched_images = []\n",
    "for i in range(248):\n",
    "    # Reshape the arrays to 2D images\n",
    "    source_img_2d = re_cf_resd[i].reshape(image_shape).astype(np.float32)\n",
    "    reference_img_2d = test_imgs[i].reshape(image_shape).astype(np.float32)\n",
    "    \n",
    "    source_img = numpy_to_sitk(source_img_2d)\n",
    "    reference_img = numpy_to_sitk(reference_img_2d)\n",
    "    \n",
    "    matcher = sitk.HistogramMatchingImageFilter()\n",
    "    matcher.SetNumberOfHistogramLevels(500)\n",
    "    matcher.SetNumberOfMatchPoints(50)\n",
    "    matcher.SetThresholdAtMeanIntensity(False)\n",
    "    matched_img = matcher.Execute(source_img, reference_img)\n",
    "    \n",
    "    # Convert the matched image back to a numpy array and reshape to original shape\n",
    "    matched_img_array = sitk_to_numpy(matched_img).reshape(-1)\n",
    "    matched_images.append(matched_img_array)\n",
    "\n",
    "# Convert the matched images back to a numpy array\n",
    "re_cf_resd = np.array(matched_images)\n",
    "\n",
    "# Ensuring values are still in the range [0, 1] after histogram matching\n",
    "# re_cf_resd = np.clip(re_cf_resd, 0, 1)"
   ],
   "id": "529cd30aedb525ab",
   "outputs": [],
   "execution_count": 10
  },
  {
   "metadata": {
    "ExecuteTime": {
     "end_time": "2024-08-15T17:59:25.771608Z",
     "start_time": "2024-08-15T17:59:25.728201Z"
    }
   },
   "cell_type": "code",
   "source": [
    "import os\n",
    "from PIL import Image\n",
    "import numpy as np\n",
    "\n",
    "# Function to save numpy array as TIFF image\n",
    "def save_image(array, path):\n",
    "    image = Image.fromarray((array * 255).astype(np.uint8))\n",
    "    image.save(path, format='TIFF')\n",
    "\n",
    "# Create the output directory if it doesn't exist\n",
    "output_dir = save_name\n",
    "os.makedirs(output_dir, exist_ok=True)\n",
    "\n",
    "# Assuming re_cf_resd is already a numpy array with shape (248, 180*180)\n",
    "for i, img_array in enumerate(re_cf_resd):\n",
    "    img_2d = img_array.reshape(image_shape)  # Reshape to 2D image if necessary\n",
    "    output_path = os.path.join(output_dir, img_names[i])\n",
    "    save_image(img_2d, output_path)\n",
    "\n",
    "print(f\"Images saved in {output_dir}\")\n"
   ],
   "id": "be60d56c1de72861",
   "outputs": [
    {
     "name": "stdout",
     "output_type": "stream",
     "text": [
      "Images saved in far_bias/cfs\n"
     ]
    }
   ],
   "execution_count": 11
  }
 ],
 "metadata": {
  "kernelspec": {
   "display_name": "Python 3",
   "language": "python",
   "name": "python3"
  },
  "language_info": {
   "codemirror_mode": {
    "name": "ipython",
    "version": 2
   },
   "file_extension": ".py",
   "mimetype": "text/x-python",
   "name": "python",
   "nbconvert_exporter": "python",
   "pygments_lexer": "ipython2",
   "version": "2.7.6"
  }
 },
 "nbformat": 4,
 "nbformat_minor": 5
}
